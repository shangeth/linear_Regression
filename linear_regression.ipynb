{
 "cells": [
  {
   "cell_type": "markdown",
   "metadata": {},
   "source": [
    "# linear Regression\n",
    "\n",
    "let y = mx+c be the best fit line \n",
    "then m = [ x`.y` -(xy)`]/[(x`)^2 - (x^2)`]  where x` is mean of all x\n",
    "and b = y` - m.x`"
   ]
  },
  {
   "cell_type": "code",
   "execution_count": 59,
   "metadata": {},
   "outputs": [
    {
     "name": "stdout",
     "output_type": "stream",
     "text": [
      "8\n"
     ]
    },
    {
     "data": {
      "image/png": "[encoded data removed]",
      "text/plain": [
       "<Figure size 432x288 with 1 Axes>"
      ]
     },
     "metadata": {},
     "output_type": "display_data"
    }
   ],
   "source": [
    "from statistics import mean\n",
    "import numpy as np\n",
    "import matplotlib.pyplot as plt\n",
    "from matplotlib import style\n",
    "\n",
    "style.use('fivethirtyeight')\n",
    "\n",
    "xs = np.array([1,2,3,4,5,6], dtype =np.float64)\n",
    "ys = np.array([5,4,6,5,6,7], dtype =np.float64)\n",
    "\n",
    "def best_fit_slope_intercept(xs,ys):\n",
    "    m =( ((mean(xs) * mean(ys)) - (mean(xs*ys))) /\n",
    "         (mean(xs)**2 - mean(xs**2)) )\n",
    "    b = mean(ys) - m * mean(xs)\n",
    "    return m, b\n",
    "\n",
    "m, b = best_fit_slope_intercept(xs,ys)\n",
    "\n",
    "regression_line = [(m*x)+b for x in xs]\n",
    "\n",
    "predict_x = float(input())\n",
    "predict_y = m*predict_x + b\n",
    "\n",
    "plt.scatter(xs,ys)\n",
    "plt.scatter(predict_x,predict_y,color=\"black\")\n",
    "plt.plot(xs,regression_line)\n",
    "plt.show()"
   ]
  },
  {
   "cell_type": "markdown",
   "metadata": {},
   "source": [
    "## How good is the best fit \n",
    "we use the parameter r to determine how good is our best fit\n",
    "\n",
    "r^2 = 1 - SE(y)/SE(y`)  where SE() is the squared error and y` is mean(y)"
   ]
  },
  {
   "cell_type": "code",
   "execution_count": 64,
   "metadata": {},
   "outputs": [
    {
     "name": "stdout",
     "output_type": "stream",
     "text": [
      "0.5844155844155845\n"
     ]
    }
   ],
   "source": [
    "def squared_error(ys_orig, ys_line):\n",
    "    return sum((ys_line-ys_orig)**2)\n",
    "\n",
    "def coefficient_of_determination(ys_orig,ys_line):\n",
    "    y_mean_line = [mean(ys_orig) for y in ys_orig]\n",
    "    squared_error_regr = squared_error(ys_orig,ys_line)\n",
    "    squared_error_y_mean = squared_error(ys_orig,y_mean_line)\n",
    "    return 1 - (squared_error_regr/squared_error_y_mean)\n",
    "    \n",
    "r_squared = coefficient_of_determination(ys,regression_line)\n",
    "print(r_squared)\n",
    "    "
   ]
  },
  {
   "cell_type": "code",
   "execution_count": null,
   "metadata": {},
   "outputs": [],
   "source": [
    "# Lets Compare with Sklearn library\n",
    "\n",
    "import sklearn\n",
    "\n",
    "reg = linear_model.LinearRegression()\n",
    "\n"
   ]
  }
 ],
 "metadata": {
  "kernelspec": {
   "display_name": "Python 3",
   "language": "python",
   "name": "python3"
  },
  "language_info": {
   "codemirror_mode": {
    "name": "ipython",
    "version": 3
   },
   "file_extension": ".py",
   "mimetype": "text/x-python",
   "name": "python",
   "nbconvert_exporter": "python",
   "pygments_lexer": "ipython3",
   "version": "3.6.5"
  }
 },
 "nbformat": 4,
 "nbformat_minor": 2
}
